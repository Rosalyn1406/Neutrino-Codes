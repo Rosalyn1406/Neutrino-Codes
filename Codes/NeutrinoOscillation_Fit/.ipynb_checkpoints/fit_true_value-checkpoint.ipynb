{
 "cells": [
  {
   "cell_type": "markdown",
   "id": "c34f8c9d",
   "metadata": {},
   "source": [
    "# Fitting true value "
   ]
  },
  {
   "cell_type": "code",
   "execution_count": 56,
   "id": "51bdb4ad",
   "metadata": {},
   "outputs": [
    {
     "data": {
      "text/html": [
       "<div>\n",
       "<style scoped>\n",
       "    .dataframe tbody tr th:only-of-type {\n",
       "        vertical-align: middle;\n",
       "    }\n",
       "\n",
       "    .dataframe tbody tr th {\n",
       "        vertical-align: top;\n",
       "    }\n",
       "\n",
       "    .dataframe thead th {\n",
       "        text-align: right;\n",
       "    }\n",
       "</style>\n",
       "<table border=\"1\" class=\"dataframe\">\n",
       "  <thead>\n",
       "    <tr style=\"text-align: right;\">\n",
       "      <th></th>\n",
       "      <th>x</th>\n",
       "      <th>p_low</th>\n",
       "      <th>p_high</th>\n",
       "    </tr>\n",
       "  </thead>\n",
       "  <tbody>\n",
       "    <tr>\n",
       "      <th>0</th>\n",
       "      <td>0.0015</td>\n",
       "      <td>0.001430</td>\n",
       "      <td>0.002283</td>\n",
       "    </tr>\n",
       "    <tr>\n",
       "      <th>1</th>\n",
       "      <td>0.0020</td>\n",
       "      <td>0.001303</td>\n",
       "      <td>0.002260</td>\n",
       "    </tr>\n",
       "    <tr>\n",
       "      <th>2</th>\n",
       "      <td>0.0025</td>\n",
       "      <td>0.001500</td>\n",
       "      <td>0.002297</td>\n",
       "    </tr>\n",
       "    <tr>\n",
       "      <th>3</th>\n",
       "      <td>0.0030</td>\n",
       "      <td>0.001500</td>\n",
       "      <td>0.002423</td>\n",
       "    </tr>\n",
       "    <tr>\n",
       "      <th>4</th>\n",
       "      <td>0.0035</td>\n",
       "      <td>0.001520</td>\n",
       "      <td>0.002343</td>\n",
       "    </tr>\n",
       "  </tbody>\n",
       "</table>\n",
       "</div>"
      ],
      "text/plain": [
       "        x     p_low    p_high\n",
       "0  0.0015  0.001430  0.002283\n",
       "1  0.0020  0.001303  0.002260\n",
       "2  0.0025  0.001500  0.002297\n",
       "3  0.0030  0.001500  0.002423\n",
       "4  0.0035  0.001520  0.002343"
      ]
     },
     "execution_count": 56,
     "metadata": {},
     "output_type": "execute_result"
    }
   ],
   "source": [
    "# import library \n",
    "import csv\n",
    "import numpy as np\n",
    "import matplotlib.pyplot as plt\n",
    "from scipy.optimize import curve_fit\n",
    "import pandas as pd\n",
    "\n",
    "# reading data from excel file\n",
    "# data set of x and y\n",
    "# empty list of x and y to append data set of x and y \n",
    "# x=[]\n",
    "# y=[]\n",
    "\n",
    "# reading data from excel\n",
    "# will be edited \n",
    "data=pd.read_csv('true_value.csv')\n",
    "data.head()"
   ]
  },
  {
   "cell_type": "code",
   "execution_count": 64,
   "id": "405d2ca2",
   "metadata": {},
   "outputs": [
    {
     "data": {
      "image/png": "[encoded data removed]",
      "text/plain": [
       "<Figure size 432x288 with 1 Axes>"
      ]
     },
     "metadata": {
      "needs_background": "light"
     },
     "output_type": "display_data"
    },
    {
     "data": {
      "text/plain": [
       "<Figure size 432x288 with 0 Axes>"
      ]
     },
     "metadata": {},
     "output_type": "display_data"
    }
   ],
   "source": [
    "# plot data and model on it\n",
    "# plotting \n",
    "\n",
    "# true value = 0.0015, 0.002, 0.0025, 0.003, 0.0035\n",
    "\n",
    "# x=data['x'] # true value average, change true value again within limit, pick five value \n",
    "# y=data['p_low'] #  take average p_high \n",
    "# y1=data['p_high'] # take average p_low \n",
    "# plt.plot(x,y,label='avg_p_low')\n",
    "# plt.plot(x,y1,label=\"avg_p_high\")\n",
    "# plt.legend()\n",
    "# plt.figure()\n",
    "\n",
    "# x=data['x'] # true value average, change true value again within limit, pick five value \n",
    "# y=data['p_low'] #  take average p_high \n",
    "# y1=data['p_high'] # take average p_low \n",
    "# plt.scatter(x,y,label='avg_p_low')\n",
    "# plt.scatter(x,y1,label=\"avg_p_high\")\n",
    "# plt.legend()\n",
    "# plt.figure()\n",
    "\n",
    "x=data['x'] # true value average, change true value again within limit, pick five value \n",
    "y=data['p_low'] #  take average p_high \n",
    "y1=data['p_high'] # take average p_low \n",
    "plt.plot(x,y,label='avg_p_low')\n",
    "plt.plot(x,y1,label=\"avg_p_high\")\n",
    "plt.xlabel(r'$\\Delta{m}^2_{32}$_{true value}')\n",
    "plt.ylabel(r'$\\Delta{m}^2_{32}$')\n",
    "plt.legend()\n",
    "plt.figure(1)\n",
    "\n",
    "x=data['x'] # true value average, change true value again within limit, pick five value \n",
    "y=data['p_low'] #  take average p_high \n",
    "y1=data['p_high'] # take average p_low \n",
    "plt.scatter(x,y,label='avg_p_low')\n",
    "plt.scatter(x,y1,label=\"avg_p_high\")\n",
    "#plt.legend()\n",
    "plt.figure(2)\n",
    "\n",
    "\n",
    "\n",
    "# true value = 0.002\n",
    "# x2=data['x'] # true value average, change true value again within limit, pick five value \n",
    "# y2=data['p_high'] #  take average p_high \n",
    "# y2a=data['p_low'] # take average p_low \n",
    "# plt.scatter(x2,y2)\n",
    "# plt.scatter(x2,y2a)\n",
    "\n",
    "# # true value = 0.0025 \n",
    "# x3=data['x'] # true value average, change true value again within limit, pick five value \n",
    "# y3=data['p_high'] #  take average p_high \n",
    "# y3a=data['p_low'] # take average p_low \n",
    "# plt.scatter(x3,y3)\n",
    "# plt.scatter(x3,y3a)\n",
    "\n",
    "# # true value = 0.0035 \n",
    "# x4=data['x'] # true value average, change true value again within limit, pick five value \n",
    "# y4=data['p_high'] #  take average p_high \n",
    "# y4a=data['p_low'] # take average p_low \n",
    "# plt.scatter(x4,y4)\n",
    "# plt.scatter(x4,y4a)\n",
    "\n",
    "# # true value = 0.0005 \n",
    "# x5=data['x'] # true value average, change true value again within limit, pick five value \n",
    "# y5=data['p_high'] #  take average p_high \n",
    "# y5a=data['p_low'] # take average p_low \n",
    "# plt.scatter(x5,y5)\n",
    "# plt.scatter(x5,y5a)\n",
    "\n",
    "# plt.xlabel('true value')\n",
    "# plt.ylabel(r'${m}^2_{32}$')\n",
    "\n",
    "plt.show()\n"
   ]
  },
  {
   "cell_type": "code",
   "execution_count": null,
   "id": "fbf6d089",
   "metadata": {},
   "outputs": [],
   "source": []
  }
 ],
 "metadata": {
  "kernelspec": {
   "display_name": "Python 3 (ipykernel)",
   "language": "python",
   "name": "python3"
  },
  "language_info": {
   "codemirror_mode": {
    "name": "ipython",
    "version": 3
   },
   "file_extension": ".py",
   "mimetype": "text/x-python",
   "name": "python",
   "nbconvert_exporter": "python",
   "pygments_lexer": "ipython3",
   "version": "3.9.12"
  }
 },
 "nbformat": 4,
 "nbformat_minor": 5
}
