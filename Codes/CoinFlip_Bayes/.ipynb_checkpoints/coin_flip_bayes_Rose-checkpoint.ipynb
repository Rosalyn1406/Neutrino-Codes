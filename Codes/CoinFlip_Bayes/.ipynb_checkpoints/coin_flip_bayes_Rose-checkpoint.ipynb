{
 "cells": [
  {
   "cell_type": "code",
   "execution_count": 8,
   "id": "149c423d",
   "metadata": {},
   "outputs": [
    {
     "name": "stdout",
     "output_type": "stream",
     "text": [
      "Requirement already satisfied: pymc3 in c:\\users\\ohh no need to thank\\anaconda3\\lib\\site-packages (3.11.5)\n",
      "Requirement already satisfied: dill in c:\\users\\ohh no need to thank\\anaconda3\\lib\\site-packages (from pymc3) (0.3.5.1)\n",
      "Requirement already satisfied: arviz>=0.11.0 in c:\\users\\ohh no need to thank\\anaconda3\\lib\\site-packages (from pymc3) (0.12.1)\n",
      "Requirement already satisfied: numpy<1.22.2,>=1.15.0 in c:\\users\\ohh no need to thank\\anaconda3\\lib\\site-packages (from pymc3) (1.21.5)\n",
      "Requirement already satisfied: patsy>=0.5.1 in c:\\users\\ohh no need to thank\\anaconda3\\lib\\site-packages (from pymc3) (0.5.2)\n",
      "Requirement already satisfied: theano-pymc==1.1.2 in c:\\users\\ohh no need to thank\\anaconda3\\lib\\site-packages (from pymc3) (1.1.2)\n",
      "Requirement already satisfied: deprecat in c:\\users\\ohh no need to thank\\anaconda3\\lib\\site-packages (from pymc3) (2.1.1)\n",
      "Requirement already satisfied: cachetools>=4.2.1 in c:\\users\\ohh no need to thank\\anaconda3\\lib\\site-packages (from pymc3) (4.2.2)\n",
      "Requirement already satisfied: typing-extensions>=3.7.4 in c:\\users\\ohh no need to thank\\anaconda3\\lib\\site-packages (from pymc3) (4.1.1)\n",
      "Requirement already satisfied: semver>=2.13.0 in c:\\users\\ohh no need to thank\\anaconda3\\lib\\site-packages (from pymc3) (2.13.0)\n",
      "Requirement already satisfied: fastprogress>=0.2.0 in c:\\users\\ohh no need to thank\\anaconda3\\lib\\site-packages (from pymc3) (1.0.3)\n",
      "Requirement already satisfied: scipy<1.8.0,>=1.7.3 in c:\\users\\ohh no need to thank\\anaconda3\\lib\\site-packages (from pymc3) (1.7.3)\n",
      "Requirement already satisfied: pandas>=0.24.0 in c:\\users\\ohh no need to thank\\anaconda3\\lib\\site-packages (from pymc3) (1.4.2)\n",
      "Requirement already satisfied: filelock in c:\\users\\ohh no need to thank\\anaconda3\\lib\\site-packages (from theano-pymc==1.1.2->pymc3) (3.6.0)\n",
      "Requirement already satisfied: matplotlib>=3.0 in c:\\users\\ohh no need to thank\\anaconda3\\lib\\site-packages (from arviz>=0.11.0->pymc3) (3.5.1)\n",
      "Requirement already satisfied: xarray>=0.16.1 in c:\\users\\ohh no need to thank\\anaconda3\\lib\\site-packages (from arviz>=0.11.0->pymc3) (0.20.1)\n",
      "Requirement already satisfied: xarray-einstats>=0.2 in c:\\users\\ohh no need to thank\\anaconda3\\lib\\site-packages (from arviz>=0.11.0->pymc3) (0.3.0)\n",
      "Requirement already satisfied: netcdf4 in c:\\users\\ohh no need to thank\\anaconda3\\lib\\site-packages (from arviz>=0.11.0->pymc3) (1.6.1)\n",
      "Requirement already satisfied: setuptools>=38.4 in c:\\users\\ohh no need to thank\\anaconda3\\lib\\site-packages (from arviz>=0.11.0->pymc3) (61.2.0)\n",
      "Requirement already satisfied: packaging in c:\\users\\ohh no need to thank\\anaconda3\\lib\\site-packages (from arviz>=0.11.0->pymc3) (21.3)\n",
      "Requirement already satisfied: pyparsing>=2.2.1 in c:\\users\\ohh no need to thank\\anaconda3\\lib\\site-packages (from matplotlib>=3.0->arviz>=0.11.0->pymc3) (3.0.4)\n",
      "Requirement already satisfied: cycler>=0.10 in c:\\users\\ohh no need to thank\\anaconda3\\lib\\site-packages (from matplotlib>=3.0->arviz>=0.11.0->pymc3) (0.11.0)\n",
      "Requirement already satisfied: pillow>=6.2.0 in c:\\users\\ohh no need to thank\\anaconda3\\lib\\site-packages (from matplotlib>=3.0->arviz>=0.11.0->pymc3) (9.0.1)\n",
      "Requirement already satisfied: kiwisolver>=1.0.1 in c:\\users\\ohh no need to thank\\anaconda3\\lib\\site-packages (from matplotlib>=3.0->arviz>=0.11.0->pymc3) (1.3.2)\n",
      "Requirement already satisfied: python-dateutil>=2.7 in c:\\users\\ohh no need to thank\\anaconda3\\lib\\site-packages (from matplotlib>=3.0->arviz>=0.11.0->pymc3) (2.8.2)\n",
      "Requirement already satisfied: fonttools>=4.22.0 in c:\\users\\ohh no need to thank\\anaconda3\\lib\\site-packages (from matplotlib>=3.0->arviz>=0.11.0->pymc3) (4.25.0)\n",
      "Requirement already satisfied: pytz>=2020.1 in c:\\users\\ohh no need to thank\\anaconda3\\lib\\site-packages (from pandas>=0.24.0->pymc3) (2021.3)\n",
      "Requirement already satisfied: six in c:\\users\\ohh no need to thank\\anaconda3\\lib\\site-packages (from patsy>=0.5.1->pymc3) (1.16.0)\n",
      "Requirement already satisfied: wrapt<2,>=1.10 in c:\\users\\ohh no need to thank\\anaconda3\\lib\\site-packages (from deprecat->pymc3) (1.12.1)\n",
      "Requirement already satisfied: cftime in c:\\users\\ohh no need to thank\\anaconda3\\lib\\site-packages (from netcdf4->arviz>=0.11.0->pymc3) (1.6.2)\n"
     ]
    }
   ],
   "source": [
    "! pip install pymc3 --user"
   ]
  },
  {
   "cell_type": "code",
   "execution_count": 13,
   "id": "6ff592bc",
   "metadata": {},
   "outputs": [],
   "source": [
    "import scipy.stats as stats\n",
    "import pymc3 as pm\n",
    "import numpy as numpy "
   ]
  },
  {
   "cell_type": "markdown",
   "id": "0383e762",
   "metadata": {},
   "source": [
    "How to apply Bayes-thorem to a bernoulli case (head/tail)\n",
    "\n",
    "Probability is p\n",
    "\n",
    "Fair coin 0.5 each \n",
    "\n",
    "Not fair (0<p<1)\n"
   ]
  },
  {
   "cell_type": "code",
   "execution_count": 14,
   "id": "d375e393",
   "metadata": {},
   "outputs": [
    {
     "name": "stdout",
     "output_type": "stream",
     "text": [
      "[0 0 0 0 0 1 0 0 0 0 0 0 0 0 0 1 0 0 1 0 1 0 0 0 0 0 0 0 0 0 0 0 0 0 0 1 1\n",
      " 1 0 1 1 0 0 0 0 0 0 0 0 0]\n"
     ]
    }
   ],
   "source": [
    "# Generate random coin-flip data with bernoulli \n",
    "p =0.25\n",
    "# ground truth, probability of a head/tail, fix parameter p will give possible outcome \n",
    "data =stats. bernoulli.rvs(p, size=50)\n",
    "print(data)\n"
   ]
  },
  {
   "cell_type": "markdown",
   "id": "e1fe0622",
   "metadata": {},
   "source": [
    "# Bayes theorem "
   ]
  },
  {
   "cell_type": "code",
   "execution_count": 16,
   "id": "1605c064",
   "metadata": {},
   "outputs": [
    {
     "name": "stderr",
     "output_type": "stream",
     "text": [
      "Multiprocess sampling (4 chains in 4 jobs)\n",
      "Metropolis: [p]\n"
     ]
    },
    {
     "data": {
      "text/html": [
       "\n",
       "<style>\n",
       "    /* Turns off some styling */\n",
       "    progress {\n",
       "        /* gets rid of default border in Firefox and Opera. */\n",
       "        border: none;\n",
       "        /* Needs to be in here for Safari polyfill so background images work as expected. */\n",
       "        background-size: auto;\n",
       "    }\n",
       "    progress:not([value]), progress:not([value])::-webkit-progress-bar {\n",
       "        background: repeating-linear-gradient(45deg, #7e7e7e, #7e7e7e 10px, #5c5c5c 10px, #5c5c5c 20px);\n",
       "    }\n",
       "    .progress-bar-interrupted, .progress-bar-interrupted::-webkit-progress-bar {\n",
       "        background: #F44336;\n",
       "    }\n",
       "</style>\n"
      ],
      "text/plain": [
       "<IPython.core.display.HTML object>"
      ]
     },
     "metadata": {},
     "output_type": "display_data"
    },
    {
     "data": {
      "text/html": [
       "\n",
       "    <div>\n",
       "      <progress value='48000' class='' max='48000' style='width:300px; height:20px; vertical-align: middle;'></progress>\n",
       "      100.00% [48000/48000 00:23&lt;00:00 Sampling 4 chains, 0 divergences]\n",
       "    </div>\n",
       "    "
      ],
      "text/plain": [
       "<IPython.core.display.HTML object>"
      ]
     },
     "metadata": {},
     "output_type": "display_data"
    },
    {
     "name": "stderr",
     "output_type": "stream",
     "text": [
      "Sampling 4 chains for 2_000 tune and 10_000 draw iterations (8_000 + 40_000 draws total) took 44 seconds.\n",
      "The number of effective samples is smaller than 25% for some parameters.\n"
     ]
    }
   ],
   "source": [
    "# likelihood model is bernoulli with parameter p \n",
    "# model the prior on p with uniform distribution \n",
    "\n",
    "with pm.Model() as coin_fliping:\n",
    "    # prior\n",
    "    p = pm.Uniform(\"p\", lower=0, upper=1)\n",
    "    # likelihood\n",
    "    y = pm.Bernoulli(\"y\", p=p, observed=data)\n",
    "    # instantiate sampler (optional) # searching for random parameter\n",
    "    step=pm.Metropolis()\n",
    "    # Draw posterior samples\n",
    "    trace = pm.sample(10000, tune=2000, step = step , return_inferencedata=True)\n",
    "    "
   ]
  },
  {
   "cell_type": "code",
   "execution_count": null,
   "id": "ad964a92",
   "metadata": {},
   "outputs": [],
   "source": []
  }
 ],
 "metadata": {
  "kernelspec": {
   "display_name": "Python 3 (ipykernel)",
   "language": "python",
   "name": "python3"
  },
  "language_info": {
   "codemirror_mode": {
    "name": "ipython",
    "version": 3
   },
   "file_extension": ".py",
   "mimetype": "text/x-python",
   "name": "python",
   "nbconvert_exporter": "python",
   "pygments_lexer": "ipython3",
   "version": "3.9.12"
  }
 },
 "nbformat": 4,
 "nbformat_minor": 5
}
