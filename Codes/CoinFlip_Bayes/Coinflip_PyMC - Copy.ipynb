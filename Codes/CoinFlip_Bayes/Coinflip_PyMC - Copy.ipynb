{
 "cells": [
  {
   "cell_type": "code",
   "execution_count": 6,
   "id": "4f910cce",
   "metadata": {},
   "outputs": [
    {
     "name": "stdout",
     "output_type": "stream",
     "text": [
      "Requirement already satisfied: pymc3 in c:\\users\\ohh no need to thank\\anaconda3\\lib\\site-packages (3.11.5)\n",
      "Requirement already satisfied: deprecat in c:\\users\\ohh no need to thank\\anaconda3\\lib\\site-packages (from pymc3) (2.1.1)\n",
      "Requirement already satisfied: numpy<1.22.2,>=1.15.0 in c:\\users\\ohh no need to thank\\anaconda3\\lib\\site-packages (from pymc3) (1.21.5)\n",
      "Requirement already satisfied: pandas>=0.24.0 in c:\\users\\ohh no need to thank\\anaconda3\\lib\\site-packages (from pymc3) (1.4.2)\n",
      "Requirement already satisfied: scipy<1.8.0,>=1.7.3 in c:\\users\\ohh no need to thank\\anaconda3\\lib\\site-packages (from pymc3) (1.7.3)\n",
      "Requirement already satisfied: theano-pymc==1.1.2 in c:\\users\\ohh no need to thank\\anaconda3\\lib\\site-packages (from pymc3) (1.1.2)\n",
      "Requirement already satisfied: arviz>=0.11.0 in c:\\users\\ohh no need to thank\\anaconda3\\lib\\site-packages (from pymc3) (0.12.1)\n",
      "Requirement already satisfied: semver>=2.13.0 in c:\\users\\ohh no need to thank\\anaconda3\\lib\\site-packages (from pymc3) (2.13.0)\n",
      "Requirement already satisfied: fastprogress>=0.2.0 in c:\\users\\ohh no need to thank\\anaconda3\\lib\\site-packages (from pymc3) (1.0.3)\n",
      "Requirement already satisfied: typing-extensions>=3.7.4 in c:\\users\\ohh no need to thank\\anaconda3\\lib\\site-packages (from pymc3) (4.1.1)\n",
      "Requirement already satisfied: dill in c:\\users\\ohh no need to thank\\anaconda3\\lib\\site-packages (from pymc3) (0.3.5.1)\n",
      "Requirement already satisfied: patsy>=0.5.1 in c:\\users\\ohh no need to thank\\anaconda3\\lib\\site-packages (from pymc3) (0.5.2)\n",
      "Requirement already satisfied: cachetools>=4.2.1 in c:\\users\\ohh no need to thank\\anaconda3\\lib\\site-packages (from pymc3) (4.2.2)\n",
      "Requirement already satisfied: filelock in c:\\users\\ohh no need to thank\\anaconda3\\lib\\site-packages (from theano-pymc==1.1.2->pymc3) (3.6.0)\n",
      "Requirement already satisfied: packaging in c:\\users\\ohh no need to thank\\anaconda3\\lib\\site-packages (from arviz>=0.11.0->pymc3) (21.3)\n",
      "Requirement already satisfied: xarray>=0.16.1 in c:\\users\\ohh no need to thank\\anaconda3\\lib\\site-packages (from arviz>=0.11.0->pymc3) (0.20.1)\n",
      "Requirement already satisfied: matplotlib>=3.0 in c:\\users\\ohh no need to thank\\anaconda3\\lib\\site-packages (from arviz>=0.11.0->pymc3) (3.5.1)\n",
      "Requirement already satisfied: netcdf4 in c:\\users\\ohh no need to thank\\anaconda3\\lib\\site-packages (from arviz>=0.11.0->pymc3) (1.6.1)\n",
      "Requirement already satisfied: xarray-einstats>=0.2 in c:\\users\\ohh no need to thank\\anaconda3\\lib\\site-packages (from arviz>=0.11.0->pymc3) (0.3.0)\n",
      "Requirement already satisfied: setuptools>=38.4 in c:\\users\\ohh no need to thank\\anaconda3\\lib\\site-packages (from arviz>=0.11.0->pymc3) (61.2.0)\n",
      "Requirement already satisfied: python-dateutil>=2.7 in c:\\users\\ohh no need to thank\\anaconda3\\lib\\site-packages (from matplotlib>=3.0->arviz>=0.11.0->pymc3) (2.8.2)\n",
      "Requirement already satisfied: cycler>=0.10 in c:\\users\\ohh no need to thank\\anaconda3\\lib\\site-packages (from matplotlib>=3.0->arviz>=0.11.0->pymc3) (0.11.0)\n",
      "Requirement already satisfied: kiwisolver>=1.0.1 in c:\\users\\ohh no need to thank\\anaconda3\\lib\\site-packages (from matplotlib>=3.0->arviz>=0.11.0->pymc3) (1.3.2)\n",
      "Requirement already satisfied: pillow>=6.2.0 in c:\\users\\ohh no need to thank\\anaconda3\\lib\\site-packages (from matplotlib>=3.0->arviz>=0.11.0->pymc3) (9.0.1)\n",
      "Requirement already satisfied: pyparsing>=2.2.1 in c:\\users\\ohh no need to thank\\anaconda3\\lib\\site-packages (from matplotlib>=3.0->arviz>=0.11.0->pymc3) (3.0.4)\n",
      "Requirement already satisfied: fonttools>=4.22.0 in c:\\users\\ohh no need to thank\\anaconda3\\lib\\site-packages (from matplotlib>=3.0->arviz>=0.11.0->pymc3) (4.25.0)\n",
      "Requirement already satisfied: pytz>=2020.1 in c:\\users\\ohh no need to thank\\anaconda3\\lib\\site-packages (from pandas>=0.24.0->pymc3) (2021.3)\n",
      "Requirement already satisfied: six in c:\\users\\ohh no need to thank\\anaconda3\\lib\\site-packages (from patsy>=0.5.1->pymc3) (1.16.0)\n",
      "Requirement already satisfied: wrapt<2,>=1.10 in c:\\users\\ohh no need to thank\\anaconda3\\lib\\site-packages (from deprecat->pymc3) (1.12.1)\n",
      "Requirement already satisfied: cftime in c:\\users\\ohh no need to thank\\anaconda3\\lib\\site-packages (from netcdf4->arviz>=0.11.0->pymc3) (1.6.2)\n"
     ]
    }
   ],
   "source": [
    "! pip install pymc3 --user"
   ]
  },
  {
   "cell_type": "code",
   "execution_count": 9,
   "id": "b88eb5a4",
   "metadata": {},
   "outputs": [
    {
     "name": "stdout",
     "output_type": "stream",
     "text": [
      "Collecting twitter\n",
      "  Downloading twitter-1.19.6-py2.py3-none-any.whl (50 kB)\n",
      "Requirement already satisfied: certifi in c:\\users\\ohh no need to thank\\anaconda3\\lib\\site-packages (from twitter) (2021.10.8)\n",
      "Installing collected packages: twitter\n",
      "Successfully installed twitter-1.19.6\n"
     ]
    }
   ],
   "source": [
    "! pip install twitter --"
   ]
  },
  {
   "cell_type": "code",
   "execution_count": 7,
   "id": "81d82c26",
   "metadata": {},
   "outputs": [],
   "source": [
    "import scipy.stats as stats\n",
    "import pymc3 as pm\n",
    "import numpy as np\n"
   ]
  },
  {
   "cell_type": "markdown",
   "id": "bf383052",
   "metadata": {},
   "source": [
    "# Coin flip - Bayes-theorem and Bernoulli probability \n",
    "\n",
    "This example demonstrates how to apply the Bayes-theorem to a Bernoulli-case (heads/tails) as an educative example.\n",
    "\n",
    "Suppose one flips a coin. There are only two possible outcomes: heads or tails. In general we do not know if the coin is truly fair (probability, $p$ of heads or tails is 0.5 each) or not fair ($0 < p < 1$ but different from 0.5). This situation can be described by the Bernoulli probability distribution, which is a discrete probability distribution. Its probability mass function (PMF) for the possible outcomes, $k$, is \n",
    "\n",
    "$$ \\boxed{ f(k;p) = p^{k}(1-p)^{1-k} }$$"
   ]
  },
  {
   "cell_type": "code",
   "execution_count": 8,
   "id": "4cb2ea99",
   "metadata": {},
   "outputs": [
    {
     "name": "stdout",
     "output_type": "stream",
     "text": [
      "[0 1 0 0 0 0 0 0 0 0 0 0 0 0 0 0 0 0 0 0 0 0 0 1 0 1 1 0 0 0 0 1 1 0 0 1 0\n",
      " 1 0 0 0 1 0 0 0 0 1 1 0 0]\n"
     ]
    }
   ],
   "source": [
    "# Generate random coin-flip data with Bernoulli\n",
    "p = 0.25 # ground truth # probqbility of a head/tail #fix parameter p, will give possible outcome \n",
    "data = stats.bernoulli.rvs(p, size=50)\n",
    "print(data)\n",
    "# We can assign H = 1, T = 0"
   ]
  },
  {
   "cell_type": "markdown",
   "id": "3a3a9985",
   "metadata": {},
   "source": [
    "## Bayes-theorem\n",
    "\n",
    "Now suppose after flipping the coin a few times the set of outcomes is as follows: [H, H, T, H, T] . Is it a fair coin? We can use the Bayes-theorem to try to answer this question. The Bayes-theorem is as follows:\n",
    "\n",
    "$$ \\boxed{ P(A|D) = \\frac{P(D|A)P(A)}{P(D)} }$$ \n",
    "\n",
    "Here $A$ is a model parameter, $D$ is the set of observed data. The interpretation of this equation is as follows: the probability of the value of the model parameter $A$, given the data $D$ (that is $P(A|D)$), can be calculated from the probability (or likelihood) of the data $D$, given a parameter value $A$ (that is $P(D|A)$), times a _prior_ probability of the parameter value, $P(A)$, and devided by a normalization factor, $P(D)$. The left-hand side is traditionally called the _posterior_ probability (i.e. after seeing the data), while the terms on right-hand side are called the _likelihood_ function and the _prior_ probability.\n",
    "\n",
    "As the normalization value, $P(D)$, does not depend on the parameter value, we can recast the equation as \n",
    "\n",
    "$$ \\boxed{ P(A|D) \\propto P(D|A)P(A)}$$ \n",
    "\n",
    "The objective is to calculate the left-hand side by evaluating the known quantities on the right-hand side.\n",
    "We can solve this analytically to calculate the left-hand side in this simple case, but this example serves to show you the numerical way of evaluating this using the very easy PyMC3 python package.\n",
    "\n",
    "## Evaluate the right-hand side\n",
    "\n",
    "To evaluate the right-hand side we should write out the terms for our coin-flip case. The likelihood of the data is simply given by the Bernoulli PMF above. $D$ will denote the set of outcomes, and $A$ denotes the parameter $p$ so our equation is:\n",
    "\n",
    "$$ \\boxed{ P(p|D) \\propto P(D|p)P(p) }$$\n",
    "\n",
    "For a dataset of N independent Bernoulli-trials with k Heads and (N-k) tails the overall likelihood is: \n",
    "\n",
    "$$ \\boxed{ P(D|p) = p^{k}(1-p)^{N-k} }$$\n",
    "\n",
    "The prior probability is somewhat arbitrary, and initially, when the amount of observation or data is still few, the prior is going to dominate the result. But by collecting more and more data (as we will see) the prior will not influence the result anymore. One typical choice is a _flat_ prior, that is we say that we allow any value for $p$. \n",
    "\n",
    "\n",
    "$$ \\boxed{ P(p) = \\begin{cases}\n",
    "    1 & 0 \\le p \\le 1 \\\\\n",
    "    0 & \\mathrm{otherwise.}\n",
    "    \\end{cases} }$$\n",
    "    \n",
    "Finally, we code this in PyMC3. See the code below.\n"
   ]
  },
  {
   "cell_type": "code",
   "execution_count": 3,
   "id": "9f040fcd",
   "metadata": {},
   "outputs": [
    {
     "name": "stderr",
     "output_type": "stream",
     "text": [
      "Multiprocess sampling (4 chains in 4 jobs)\n",
      "Metropolis: [p]\n"
     ]
    },
    {
     "data": {
      "text/html": [
       "\n",
       "<style>\n",
       "    /* Turns off some styling */\n",
       "    progress {\n",
       "        /* gets rid of default border in Firefox and Opera. */\n",
       "        border: none;\n",
       "        /* Needs to be in here for Safari polyfill so background images work as expected. */\n",
       "        background-size: auto;\n",
       "    }\n",
       "    progress:not([value]), progress:not([value])::-webkit-progress-bar {\n",
       "        background: repeating-linear-gradient(45deg, #7e7e7e, #7e7e7e 10px, #5c5c5c 10px, #5c5c5c 20px);\n",
       "    }\n",
       "    .progress-bar-interrupted, .progress-bar-interrupted::-webkit-progress-bar {\n",
       "        background: #F44336;\n",
       "    }\n",
       "</style>\n"
      ],
      "text/plain": [
       "<IPython.core.display.HTML object>"
      ]
     },
     "metadata": {},
     "output_type": "display_data"
    },
    {
     "data": {
      "text/html": [
       "\n",
       "    <div>\n",
       "      <progress value='48000' class='' max='48000' style='width:300px; height:20px; vertical-align: middle;'></progress>\n",
       "      100.00% [48000/48000 00:23&lt;00:00 Sampling 4 chains, 0 divergences]\n",
       "    </div>\n",
       "    "
      ],
      "text/plain": [
       "<IPython.core.display.HTML object>"
      ]
     },
     "metadata": {},
     "output_type": "display_data"
    },
    {
     "name": "stderr",
     "output_type": "stream",
     "text": [
      "Sampling 4 chains for 2_000 tune and 10_000 draw iterations (8_000 + 40_000 draws total) took 44 seconds.\n",
      "The number of effective samples is smaller than 25% for some parameters.\n"
     ]
    }
   ],
   "source": [
    "# Likelihood model is Bernoulli with parameter p\n",
    "# Model the prior on p with Uniform distribution\n",
    "\n",
    "with pm.Model() as coin_flipping:\n",
    "    # Prior\n",
    "    p = pm.Uniform(\"p\", lower=0, upper = 1)\n",
    "    # Likelihood\n",
    "    y = pm.Bernoulli(\"y\", p=p, observed=data)\n",
    "    # instantiate sampler (optional) # searching for random parameters \n",
    "    step = pm.Metropolis() \n",
    "    # Draw posterior samples\n",
    "    trace = pm.sample(10000, tune=2000, step = step, return_inferencedata=True)\n"
   ]
  },
  {
   "cell_type": "markdown",
   "id": "45d7443d",
   "metadata": {},
   "source": [
    "Perhaps the only non-trivial parts of the code were the lines:\n",
    "\n",
    "```\n",
    "    # instantiate sampler (optional)\n",
    "    step = pm.Metropolis() \n",
    "    # Draw posterior samples\n",
    "    trace = pm.sample(10000, tune=1000, step = step, return_inferencedata=True)\n",
    "```\n",
    "\n",
    "This is the core of the numerical application of the Bayes-theorem. Even though we could write up the right-hand side of the Bayes-theorem, the data values (the $k_i$ values) are fixed to the observed outcomes, it still remains a function of the Bernoulli parameter value, $p$. A common way to explore the parameter space for the $p$ value is to run a Markov Chain Monte Carlo (MCMC), in this particular case with a Metropolis-Hastings algorithm. This algorithm steps through various values of $p$ randomly, and every time evaluates the likelihood of that particular value of $p$, given the data. It is beyond the scope of this example, but PyMC3 makes is simple for you.\n",
    "\n",
    "Once you got the code running you can visualize the explored parameters values but plotting a histogram (or density) and a trace of the $p$ parameter values as a function of the MCMC steps."
   ]
  },
  {
   "cell_type": "code",
   "execution_count": 4,
   "id": "11525af5",
   "metadata": {
    "scrolled": true
   },
   "outputs": [
    {
     "data": {
      "image/png": "[encoded data removed]",
      "text/plain": [
       "<Figure size 864x144 with 2 Axes>"
      ]
     },
     "metadata": {
      "needs_background": "light"
     },
     "output_type": "display_data"
    }
   ],
   "source": [
    "# Plot trace of MCMC\n",
    "import arviz as az\n",
    "az.plot_trace(trace, var_names=[\"p\"]);\n",
    "\n",
    "# left hand side data"
   ]
  },
  {
   "cell_type": "markdown",
   "id": "2a361629",
   "metadata": {},
   "source": [
    "We can extract and plot the mean of the posterior distribution as well as the 95% highest density interval. "
   ]
  },
  {
   "cell_type": "code",
   "execution_count": 5,
   "id": "5191cd43",
   "metadata": {},
   "outputs": [
    {
     "data": {
      "image/png": "[encoded data removed]",
      "text/plain": [
       "<Figure size 432x288 with 1 Axes>"
      ]
     },
     "metadata": {
      "needs_background": "light"
     },
     "output_type": "display_data"
    },
    {
     "name": "stdout",
     "output_type": "stream",
     "text": [
      "Mean, 2.5 and 97.5 percentiles, p = 0.40 -0.28 +0.54 \n"
     ]
    }
   ],
   "source": [
    "import matplotlib.pyplot as plt\n",
    "#ax = pm.plot_posterior(trace, hdi_prob=0.95)\n",
    "#ax.set_xlim(0, 1)\n",
    "#ax.set_xlabel('p')\n",
    "\n",
    "\n",
    "# Plot the distribution of the sample means as a histogram\n",
    "fig, ax = plt.subplots(1, 1)\n",
    "plt.hist(trace[\"posterior\"][\"p\"][0], bins='auto')\n",
    "ax.set_xlim(0, 1)\n",
    "p_mean = np.mean(trace[\"posterior\"][\"p\"][:])\n",
    "p_low = np.percentile(trace[\"posterior\"][\"p\"][:],[2.5,97.5])[0] \n",
    "p_high = np.percentile(trace[\"posterior\"][\"p\"][:],[2.5,97.5])[1]\n",
    "plt.axvline(p_low, c='k', ls='--')\n",
    "plt.axvline(p_high, c='k', ls='--');\n",
    "plt.axvline(p_mean, c='k', ls='--');\n",
    "ax.set_xlabel(\"p\")\n",
    "\n",
    "plt.show()\n",
    "\n",
    "print(\"Mean, 2.5 and 97.5 percentiles, p = %.2f -%.2f +%.2f \" % (p_mean, p_low, p_high))\n",
    "\n"
   ]
  },
  {
   "cell_type": "code",
   "execution_count": 6,
   "id": "622446fb",
   "metadata": {},
   "outputs": [
    {
     "name": "stdout",
     "output_type": "stream",
     "text": [
      "Mean, 2.5 and 97.5 percentiles, p = 0.40 -0.28 +0.54 \n"
     ]
    }
   ],
   "source": [
    "p_mean = np.mean(trace[\"posterior\"][\"p\"][:])\n",
    "p_low = np.percentile(trace[\"posterior\"][\"p\"][:],[2.5,97.5])[0]\n",
    "p_high = np.percentile(trace[\"posterior\"][\"p\"][:],[2.5,97.5])[1]\n",
    "print(\"Mean, 2.5 and 97.5 percentiles, p = %.2f -%.2f +%.2f \" % (p_mean, p_low, p_high))"
   ]
  },
  {
   "cell_type": "markdown",
   "id": "ba532feb",
   "metadata": {},
   "source": [
    "We can also get a summary of the posterior distribution."
   ]
  },
  {
   "cell_type": "code",
   "execution_count": 7,
   "id": "78de0a8e",
   "metadata": {},
   "outputs": [
    {
     "data": {
      "text/html": [
       "<div>\n",
       "<style scoped>\n",
       "    .dataframe tbody tr th:only-of-type {\n",
       "        vertical-align: middle;\n",
       "    }\n",
       "\n",
       "    .dataframe tbody tr th {\n",
       "        vertical-align: top;\n",
       "    }\n",
       "\n",
       "    .dataframe thead th {\n",
       "        text-align: right;\n",
       "    }\n",
       "</style>\n",
       "<table border=\"1\" class=\"dataframe\">\n",
       "  <thead>\n",
       "    <tr style=\"text-align: right;\">\n",
       "      <th></th>\n",
       "      <th>mean</th>\n",
       "      <th>sd</th>\n",
       "      <th>hdi_2.5%</th>\n",
       "      <th>hdi_97.5%</th>\n",
       "      <th>mcse_mean</th>\n",
       "      <th>mcse_sd</th>\n",
       "      <th>ess_bulk</th>\n",
       "      <th>ess_tail</th>\n",
       "      <th>r_hat</th>\n",
       "    </tr>\n",
       "  </thead>\n",
       "  <tbody>\n",
       "    <tr>\n",
       "      <th>p</th>\n",
       "      <td>0.404</td>\n",
       "      <td>0.067</td>\n",
       "      <td>0.271</td>\n",
       "      <td>0.534</td>\n",
       "      <td>0.001</td>\n",
       "      <td>0.001</td>\n",
       "      <td>8282.0</td>\n",
       "      <td>8568.0</td>\n",
       "      <td>1.0</td>\n",
       "    </tr>\n",
       "  </tbody>\n",
       "</table>\n",
       "</div>"
      ],
      "text/plain": [
       "    mean     sd  hdi_2.5%  hdi_97.5%  mcse_mean  mcse_sd  ess_bulk  ess_tail  \\\n",
       "p  0.404  0.067     0.271      0.534      0.001    0.001    8282.0    8568.0   \n",
       "\n",
       "   r_hat  \n",
       "p    1.0  "
      ]
     },
     "execution_count": 7,
     "metadata": {},
     "output_type": "execute_result"
    }
   ],
   "source": [
    "az.summary(trace, hdi_prob = 0.95)"
   ]
  },
  {
   "cell_type": "code",
   "execution_count": 8,
   "id": "7147a7ae",
   "metadata": {},
   "outputs": [
    {
     "data": {
      "text/html": [
       "<div><svg style=\"position: absolute; width: 0; height: 0; overflow: hidden\">\n",
       "<defs>\n",
       "<symbol id=\"icon-database\" viewBox=\"0 0 32 32\">\n",
       "<path d=\"M16 0c-8.837 0-16 2.239-16 5v4c0 2.761 7.163 5 16 5s16-2.239 16-5v-4c0-2.761-7.163-5-16-5z\"></path>\n",
       "<path d=\"M16 17c-8.837 0-16-2.239-16-5v6c0 2.761 7.163 5 16 5s16-2.239 16-5v-6c0 2.761-7.163 5-16 5z\"></path>\n",
       "<path d=\"M16 26c-8.837 0-16-2.239-16-5v6c0 2.761 7.163 5 16 5s16-2.239 16-5v-6c0 2.761-7.163 5-16 5z\"></path>\n",
       "</symbol>\n",
       "<symbol id=\"icon-file-text2\" viewBox=\"0 0 32 32\">\n",
       "<path d=\"M28.681 7.159c-0.694-0.947-1.662-2.053-2.724-3.116s-2.169-2.030-3.116-2.724c-1.612-1.182-2.393-1.319-2.841-1.319h-15.5c-1.378 0-2.5 1.121-2.5 2.5v27c0 1.378 1.122 2.5 2.5 2.5h23c1.378 0 2.5-1.122 2.5-2.5v-19.5c0-0.448-0.137-1.23-1.319-2.841zM24.543 5.457c0.959 0.959 1.712 1.825 2.268 2.543h-4.811v-4.811c0.718 0.556 1.584 1.309 2.543 2.268zM28 29.5c0 0.271-0.229 0.5-0.5 0.5h-23c-0.271 0-0.5-0.229-0.5-0.5v-27c0-0.271 0.229-0.5 0.5-0.5 0 0 15.499-0 15.5 0v7c0 0.552 0.448 1 1 1h7v19.5z\"></path>\n",
       "<path d=\"M23 26h-14c-0.552 0-1-0.448-1-1s0.448-1 1-1h14c0.552 0 1 0.448 1 1s-0.448 1-1 1z\"></path>\n",
       "<path d=\"M23 22h-14c-0.552 0-1-0.448-1-1s0.448-1 1-1h14c0.552 0 1 0.448 1 1s-0.448 1-1 1z\"></path>\n",
       "<path d=\"M23 18h-14c-0.552 0-1-0.448-1-1s0.448-1 1-1h14c0.552 0 1 0.448 1 1s-0.448 1-1 1z\"></path>\n",
       "</symbol>\n",
       "</defs>\n",
       "</svg>\n",
       "<style>/* CSS stylesheet for displaying xarray objects in jupyterlab.\n",
       " *\n",
       " */\n",
       "\n",
       ":root {\n",
       "  --xr-font-color0: var(--jp-content-font-color0, rgba(0, 0, 0, 1));\n",
       "  --xr-font-color2: var(--jp-content-font-color2, rgba(0, 0, 0, 0.54));\n",
       "  --xr-font-color3: var(--jp-content-font-color3, rgba(0, 0, 0, 0.38));\n",
       "  --xr-border-color: var(--jp-border-color2, #e0e0e0);\n",
       "  --xr-disabled-color: var(--jp-layout-color3, #bdbdbd);\n",
       "  --xr-background-color: var(--jp-layout-color0, white);\n",
       "  --xr-background-color-row-even: var(--jp-layout-color1, white);\n",
       "  --xr-background-color-row-odd: var(--jp-layout-color2, #eeeeee);\n",
       "}\n",
       "\n",
       "html[theme=dark],\n",
       "body.vscode-dark {\n",
       "  --xr-font-color0: rgba(255, 255, 255, 1);\n",
       "  --xr-font-color2: rgba(255, 255, 255, 0.54);\n",
       "  --xr-font-color3: rgba(255, 255, 255, 0.38);\n",
       "  --xr-border-color: #1F1F1F;\n",
       "  --xr-disabled-color: #515151;\n",
       "  --xr-background-color: #111111;\n",
       "  --xr-background-color-row-even: #111111;\n",
       "  --xr-background-color-row-odd: #313131;\n",
       "}\n",
       "\n",
       ".xr-wrap {\n",
       "  display: block;\n",
       "  min-width: 300px;\n",
       "  max-width: 700px;\n",
       "}\n",
       "\n",
       ".xr-text-repr-fallback {\n",
       "  /* fallback to plain text repr when CSS is not injected (untrusted notebook) */\n",
       "  display: none;\n",
       "}\n",
       "\n",
       ".xr-header {\n",
       "  padding-top: 6px;\n",
       "  padding-bottom: 6px;\n",
       "  margin-bottom: 4px;\n",
       "  border-bottom: solid 1px var(--xr-border-color);\n",
       "}\n",
       "\n",
       ".xr-header > div,\n",
       ".xr-header > ul {\n",
       "  display: inline;\n",
       "  margin-top: 0;\n",
       "  margin-bottom: 0;\n",
       "}\n",
       "\n",
       ".xr-obj-type,\n",
       ".xr-array-name {\n",
       "  margin-left: 2px;\n",
       "  margin-right: 10px;\n",
       "}\n",
       "\n",
       ".xr-obj-type {\n",
       "  color: var(--xr-font-color2);\n",
       "}\n",
       "\n",
       ".xr-sections {\n",
       "  padding-left: 0 !important;\n",
       "  display: grid;\n",
       "  grid-template-columns: 150px auto auto 1fr 20px 20px;\n",
       "}\n",
       "\n",
       ".xr-section-item {\n",
       "  display: contents;\n",
       "}\n",
       "\n",
       ".xr-section-item input {\n",
       "  display: none;\n",
       "}\n",
       "\n",
       ".xr-section-item input + label {\n",
       "  color: var(--xr-disabled-color);\n",
       "}\n",
       "\n",
       ".xr-section-item input:enabled + label {\n",
       "  cursor: pointer;\n",
       "  color: var(--xr-font-color2);\n",
       "}\n",
       "\n",
       ".xr-section-item input:enabled + label:hover {\n",
       "  color: var(--xr-font-color0);\n",
       "}\n",
       "\n",
       ".xr-section-summary {\n",
       "  grid-column: 1;\n",
       "  color: var(--xr-font-color2);\n",
       "  font-weight: 500;\n",
       "}\n",
       "\n",
       ".xr-section-summary > span {\n",
       "  display: inline-block;\n",
       "  padding-left: 0.5em;\n",
       "}\n",
       "\n",
       ".xr-section-summary-in:disabled + label {\n",
       "  color: var(--xr-font-color2);\n",
       "}\n",
       "\n",
       ".xr-section-summary-in + label:before {\n",
       "  display: inline-block;\n",
       "  content: '►';\n",
       "  font-size: 11px;\n",
       "  width: 15px;\n",
       "  text-align: center;\n",
       "}\n",
       "\n",
       ".xr-section-summary-in:disabled + label:before {\n",
       "  color: var(--xr-disabled-color);\n",
       "}\n",
       "\n",
       ".xr-section-summary-in:checked + label:before {\n",
       "  content: '▼';\n",
       "}\n",
       "\n",
       ".xr-section-summary-in:checked + label > span {\n",
       "  display: none;\n",
       "}\n",
       "\n",
       ".xr-section-summary,\n",
       ".xr-section-inline-details {\n",
       "  padding-top: 4px;\n",
       "  padding-bottom: 4px;\n",
       "}\n",
       "\n",
       ".xr-section-inline-details {\n",
       "  grid-column: 2 / -1;\n",
       "}\n",
       "\n",
       ".xr-section-details {\n",
       "  display: none;\n",
       "  grid-column: 1 / -1;\n",
       "  margin-bottom: 5px;\n",
       "}\n",
       "\n",
       ".xr-section-summary-in:checked ~ .xr-section-details {\n",
       "  display: contents;\n",
       "}\n",
       "\n",
       ".xr-array-wrap {\n",
       "  grid-column: 1 / -1;\n",
       "  display: grid;\n",
       "  grid-template-columns: 20px auto;\n",
       "}\n",
       "\n",
       ".xr-array-wrap > label {\n",
       "  grid-column: 1;\n",
       "  vertical-align: top;\n",
       "}\n",
       "\n",
       ".xr-preview {\n",
       "  color: var(--xr-font-color3);\n",
       "}\n",
       "\n",
       ".xr-array-preview,\n",
       ".xr-array-data {\n",
       "  padding: 0 5px !important;\n",
       "  grid-column: 2;\n",
       "}\n",
       "\n",
       ".xr-array-data,\n",
       ".xr-array-in:checked ~ .xr-array-preview {\n",
       "  display: none;\n",
       "}\n",
       "\n",
       ".xr-array-in:checked ~ .xr-array-data,\n",
       ".xr-array-preview {\n",
       "  display: inline-block;\n",
       "}\n",
       "\n",
       ".xr-dim-list {\n",
       "  display: inline-block !important;\n",
       "  list-style: none;\n",
       "  padding: 0 !important;\n",
       "  margin: 0;\n",
       "}\n",
       "\n",
       ".xr-dim-list li {\n",
       "  display: inline-block;\n",
       "  padding: 0;\n",
       "  margin: 0;\n",
       "}\n",
       "\n",
       ".xr-dim-list:before {\n",
       "  content: '(';\n",
       "}\n",
       "\n",
       ".xr-dim-list:after {\n",
       "  content: ')';\n",
       "}\n",
       "\n",
       ".xr-dim-list li:not(:last-child):after {\n",
       "  content: ',';\n",
       "  padding-right: 5px;\n",
       "}\n",
       "\n",
       ".xr-has-index {\n",
       "  font-weight: bold;\n",
       "}\n",
       "\n",
       ".xr-var-list,\n",
       ".xr-var-item {\n",
       "  display: contents;\n",
       "}\n",
       "\n",
       ".xr-var-item > div,\n",
       ".xr-var-item label,\n",
       ".xr-var-item > .xr-var-name span {\n",
       "  background-color: var(--xr-background-color-row-even);\n",
       "  margin-bottom: 0;\n",
       "}\n",
       "\n",
       ".xr-var-item > .xr-var-name:hover span {\n",
       "  padding-right: 5px;\n",
       "}\n",
       "\n",
       ".xr-var-list > li:nth-child(odd) > div,\n",
       ".xr-var-list > li:nth-child(odd) > label,\n",
       ".xr-var-list > li:nth-child(odd) > .xr-var-name span {\n",
       "  background-color: var(--xr-background-color-row-odd);\n",
       "}\n",
       "\n",
       ".xr-var-name {\n",
       "  grid-column: 1;\n",
       "}\n",
       "\n",
       ".xr-var-dims {\n",
       "  grid-column: 2;\n",
       "}\n",
       "\n",
       ".xr-var-dtype {\n",
       "  grid-column: 3;\n",
       "  text-align: right;\n",
       "  color: var(--xr-font-color2);\n",
       "}\n",
       "\n",
       ".xr-var-preview {\n",
       "  grid-column: 4;\n",
       "}\n",
       "\n",
       ".xr-var-name,\n",
       ".xr-var-dims,\n",
       ".xr-var-dtype,\n",
       ".xr-preview,\n",
       ".xr-attrs dt {\n",
       "  white-space: nowrap;\n",
       "  overflow: hidden;\n",
       "  text-overflow: ellipsis;\n",
       "  padding-right: 10px;\n",
       "}\n",
       "\n",
       ".xr-var-name:hover,\n",
       ".xr-var-dims:hover,\n",
       ".xr-var-dtype:hover,\n",
       ".xr-attrs dt:hover {\n",
       "  overflow: visible;\n",
       "  width: auto;\n",
       "  z-index: 1;\n",
       "}\n",
       "\n",
       ".xr-var-attrs,\n",
       ".xr-var-data {\n",
       "  display: none;\n",
       "  background-color: var(--xr-background-color) !important;\n",
       "  padding-bottom: 5px !important;\n",
       "}\n",
       "\n",
       ".xr-var-attrs-in:checked ~ .xr-var-attrs,\n",
       ".xr-var-data-in:checked ~ .xr-var-data {\n",
       "  display: block;\n",
       "}\n",
       "\n",
       ".xr-var-data > table {\n",
       "  float: right;\n",
       "}\n",
       "\n",
       ".xr-var-name span,\n",
       ".xr-var-data,\n",
       ".xr-attrs {\n",
       "  padding-left: 25px !important;\n",
       "}\n",
       "\n",
       ".xr-attrs,\n",
       ".xr-var-attrs,\n",
       ".xr-var-data {\n",
       "  grid-column: 1 / -1;\n",
       "}\n",
       "\n",
       "dl.xr-attrs {\n",
       "  padding: 0;\n",
       "  margin: 0;\n",
       "  display: grid;\n",
       "  grid-template-columns: 125px auto;\n",
       "}\n",
       "\n",
       ".xr-attrs dt,\n",
       ".xr-attrs dd {\n",
       "  padding: 0;\n",
       "  margin: 0;\n",
       "  float: left;\n",
       "  padding-right: 10px;\n",
       "  width: auto;\n",
       "}\n",
       "\n",
       ".xr-attrs dt {\n",
       "  font-weight: normal;\n",
       "  grid-column: 1;\n",
       "}\n",
       "\n",
       ".xr-attrs dt:hover span {\n",
       "  display: inline-block;\n",
       "  background: var(--xr-background-color);\n",
       "  padding-right: 10px;\n",
       "}\n",
       "\n",
       ".xr-attrs dd {\n",
       "  grid-column: 2;\n",
       "  white-space: pre-wrap;\n",
       "  word-break: break-all;\n",
       "}\n",
       "\n",
       ".xr-icon-database,\n",
       ".xr-icon-file-text2 {\n",
       "  display: inline-block;\n",
       "  vertical-align: middle;\n",
       "  width: 1em;\n",
       "  height: 1.5em !important;\n",
       "  stroke-width: 0;\n",
       "  stroke: currentColor;\n",
       "  fill: currentColor;\n",
       "}\n",
       "</style><pre class='xr-text-repr-fallback'>&lt;xarray.Dataset&gt;\n",
       "Dimensions:  (metric: 9)\n",
       "Coordinates:\n",
       "  * metric   (metric) &lt;U9 &#x27;mean&#x27; &#x27;sd&#x27; &#x27;hdi_2.5%&#x27; ... &#x27;ess_tail&#x27; &#x27;r_hat&#x27;\n",
       "Data variables:\n",
       "    p        (metric) float64 0.404 0.06694 0.2708 ... 8.282e+03 8.568e+03 1.001</pre><div class='xr-wrap' hidden><div class='xr-header'><div class='xr-obj-type'>xarray.Dataset</div></div><ul class='xr-sections'><li class='xr-section-item'><input id='section-e932932e-a14d-4cff-b9fc-dc4d79f0c797' class='xr-section-summary-in' type='checkbox' disabled ><label for='section-e932932e-a14d-4cff-b9fc-dc4d79f0c797' class='xr-section-summary'  title='Expand/collapse section'>Dimensions:</label><div class='xr-section-inline-details'><ul class='xr-dim-list'><li><span class='xr-has-index'>metric</span>: 9</li></ul></div><div class='xr-section-details'></div></li><li class='xr-section-item'><input id='section-8cc05e1d-a74a-4491-a6b6-5eb2df1314de' class='xr-section-summary-in' type='checkbox'  checked><label for='section-8cc05e1d-a74a-4491-a6b6-5eb2df1314de' class='xr-section-summary' >Coordinates: <span>(1)</span></label><div class='xr-section-inline-details'></div><div class='xr-section-details'><ul class='xr-var-list'><li class='xr-var-item'><div class='xr-var-name'><span class='xr-has-index'>metric</span></div><div class='xr-var-dims'>(metric)</div><div class='xr-var-dtype'>&lt;U9</div><div class='xr-var-preview xr-preview'>&#x27;mean&#x27; &#x27;sd&#x27; ... &#x27;ess_tail&#x27; &#x27;r_hat&#x27;</div><input id='attrs-4e3bd327-e802-42e4-920a-017faf8c231f' class='xr-var-attrs-in' type='checkbox' disabled><label for='attrs-4e3bd327-e802-42e4-920a-017faf8c231f' title='Show/Hide attributes'><svg class='icon xr-icon-file-text2'><use xlink:href='#icon-file-text2'></use></svg></label><input id='data-1aa8900b-319d-4ede-b818-d71862873e87' class='xr-var-data-in' type='checkbox'><label for='data-1aa8900b-319d-4ede-b818-d71862873e87' title='Show/Hide data repr'><svg class='icon xr-icon-database'><use xlink:href='#icon-database'></use></svg></label><div class='xr-var-attrs'><dl class='xr-attrs'></dl></div><div class='xr-var-data'><pre>array([&#x27;mean&#x27;, &#x27;sd&#x27;, &#x27;hdi_2.5%&#x27;, &#x27;hdi_97.5%&#x27;, &#x27;mcse_mean&#x27;, &#x27;mcse_sd&#x27;,\n",
       "       &#x27;ess_bulk&#x27;, &#x27;ess_tail&#x27;, &#x27;r_hat&#x27;], dtype=&#x27;&lt;U9&#x27;)</pre></div></li></ul></div></li><li class='xr-section-item'><input id='section-65dd1ae3-56ae-46e4-bf47-34f5eaebf173' class='xr-section-summary-in' type='checkbox'  checked><label for='section-65dd1ae3-56ae-46e4-bf47-34f5eaebf173' class='xr-section-summary' >Data variables: <span>(1)</span></label><div class='xr-section-inline-details'></div><div class='xr-section-details'><ul class='xr-var-list'><li class='xr-var-item'><div class='xr-var-name'><span>p</span></div><div class='xr-var-dims'>(metric)</div><div class='xr-var-dtype'>float64</div><div class='xr-var-preview xr-preview'>0.404 0.06694 ... 8.568e+03 1.001</div><input id='attrs-54a38a43-5b2c-4441-94dd-134c30c6d099' class='xr-var-attrs-in' type='checkbox' disabled><label for='attrs-54a38a43-5b2c-4441-94dd-134c30c6d099' title='Show/Hide attributes'><svg class='icon xr-icon-file-text2'><use xlink:href='#icon-file-text2'></use></svg></label><input id='data-4a09d522-c59e-41a1-9c56-cad9497de252' class='xr-var-data-in' type='checkbox'><label for='data-4a09d522-c59e-41a1-9c56-cad9497de252' title='Show/Hide data repr'><svg class='icon xr-icon-database'><use xlink:href='#icon-database'></use></svg></label><div class='xr-var-attrs'><dl class='xr-attrs'></dl></div><div class='xr-var-data'><pre>array([4.03955463e-01, 6.69429013e-02, 2.70827234e-01, 5.34168172e-01,\n",
       "       7.36445729e-04, 5.24539682e-04, 8.28168775e+03, 8.56834077e+03,\n",
       "       1.00086816e+00])</pre></div></li></ul></div></li><li class='xr-section-item'><input id='section-7954206b-70fd-427b-b18a-37c2f7f488a6' class='xr-section-summary-in' type='checkbox' disabled ><label for='section-7954206b-70fd-427b-b18a-37c2f7f488a6' class='xr-section-summary'  title='Expand/collapse section'>Attributes: <span>(0)</span></label><div class='xr-section-inline-details'></div><div class='xr-section-details'><dl class='xr-attrs'></dl></div></li></ul></div></div>"
      ],
      "text/plain": [
       "<xarray.Dataset>\n",
       "Dimensions:  (metric: 9)\n",
       "Coordinates:\n",
       "  * metric   (metric) <U9 'mean' 'sd' 'hdi_2.5%' ... 'ess_tail' 'r_hat'\n",
       "Data variables:\n",
       "    p        (metric) float64 0.404 0.06694 0.2708 ... 8.282e+03 8.568e+03 1.001"
      ]
     },
     "execution_count": 8,
     "metadata": {},
     "output_type": "execute_result"
    }
   ],
   "source": [
    "#az.mcse(trace, method=\"quantile\", prob=0.95)\n",
    "az.summary(trace, hdi_prob=0.95, fmt=\"xarray\")"
   ]
  },
  {
   "cell_type": "markdown",
   "id": "1a9dd560",
   "metadata": {},
   "source": [
    "## Posterior sampling of the parameter "
   ]
  },
  {
   "cell_type": "code",
   "execution_count": 9,
   "id": "057db54a",
   "metadata": {
    "scrolled": false
   },
   "outputs": [
    {
     "name": "stderr",
     "output_type": "stream",
     "text": [
      "C:\\Users\\Rosalyn\\anaconda3\\lib\\site-packages\\pymc3\\sampling.py:1708: UserWarning: samples parameter is smaller than nchains times ndraws, some draws and/or chains may not be represented in the returned posterior predictive sample\n",
      "  warnings.warn(\n"
     ]
    },
    {
     "data": {
      "text/html": [
       "\n",
       "<style>\n",
       "    /* Turns off some styling */\n",
       "    progress {\n",
       "        /* gets rid of default border in Firefox and Opera. */\n",
       "        border: none;\n",
       "        /* Needs to be in here for Safari polyfill so background images work as expected. */\n",
       "        background-size: auto;\n",
       "    }\n",
       "    progress:not([value]), progress:not([value])::-webkit-progress-bar {\n",
       "        background: repeating-linear-gradient(45deg, #7e7e7e, #7e7e7e 10px, #5c5c5c 10px, #5c5c5c 20px);\n",
       "    }\n",
       "    .progress-bar-interrupted, .progress-bar-interrupted::-webkit-progress-bar {\n",
       "        background: #F44336;\n",
       "    }\n",
       "</style>\n"
      ],
      "text/plain": [
       "<IPython.core.display.HTML object>"
      ]
     },
     "metadata": {},
     "output_type": "display_data"
    },
    {
     "data": {
      "text/html": [
       "\n",
       "    <div>\n",
       "      <progress value='10' class='' max='10' style='width:300px; height:20px; vertical-align: middle;'></progress>\n",
       "      100.00% [10/10 00:00&lt;00:00]\n",
       "    </div>\n",
       "    "
      ],
      "text/plain": [
       "<IPython.core.display.HTML object>"
      ]
     },
     "metadata": {},
     "output_type": "display_data"
    },
    {
     "name": "stdout",
     "output_type": "stream",
     "text": [
      "{'p': array([0.45889968, 0.31553612, 0.42185943, 0.42185943, 0.42185943,\n",
      "       0.42185943, 0.46099228, 0.46099228, 0.46099228, 0.51006847])}\n"
     ]
    }
   ],
   "source": [
    "# Generate posterior parameter sample\n",
    "posterior_predictive = pm.sample_posterior_predictive(\n",
    "            trace, var_names=[\"p\"], model=coin_flipping, random_seed=0, samples=10, \n",
    "        )\n",
    "print(posterior_predictive)\n",
    "#posterior_preds = posterior_predictive[\"p\"]\n",
    "#print(posterior_preds)"
   ]
  },
  {
   "cell_type": "code",
   "execution_count": 10,
   "id": "6f2896c1",
   "metadata": {},
   "outputs": [
    {
     "name": "stdout",
     "output_type": "stream",
     "text": [
      "<xarray.Dataset>\n",
      "Dimensions:  (chain: 4, draw: 10000)\n",
      "Coordinates:\n",
      "  * chain    (chain) int32 0 1 2 3\n",
      "  * draw     (draw) int32 0 1 2 3 4 5 6 7 ... 9993 9994 9995 9996 9997 9998 9999\n",
      "Data variables:\n",
      "    p        (chain, draw) float64 0.4589 0.3155 0.4219 ... 0.3652 0.3652 0.4514\n",
      "Attributes:\n",
      "    created_at:                 2022-09-12T18:47:55.043662\n",
      "    arviz_version:              0.12.1\n",
      "    inference_library:          pymc3\n",
      "    inference_library_version:  3.11.5\n",
      "    sampling_time:              44.45352482795715\n",
      "    tuning_steps:               2000\n"
     ]
    }
   ],
   "source": [
    "print(trace.posterior)"
   ]
  },
  {
   "cell_type": "markdown",
   "id": "3db788dc",
   "metadata": {},
   "source": [
    "## Auto-correlation plots\n",
    "\n",
    "Auto-correlation reveals how much correlation exist in the subsequent values during the stepping through the parameters, with increasing lagging. This is used as a diagnostic. "
   ]
  },
  {
   "cell_type": "code",
   "execution_count": 11,
   "id": "17c82990",
   "metadata": {},
   "outputs": [
    {
     "name": "stderr",
     "output_type": "stream",
     "text": [
      "C:\\Users\\Rosalyn\\AppData\\Local\\Temp\\ipykernel_17588\\152698311.py:1: DeprecationWarning: The function `autocorrplot` from PyMC3 is just an alias for `plot_autocorr` from ArviZ. Please switch to `pymc3.plot_autocorr` or `arviz.plot_autocorr`.\n",
      "  pm.autocorrplot(trace, combined=True)\n"
     ]
    },
    {
     "data": {
      "text/plain": [
       "<AxesSubplot:title={'center':'p'}>"
      ]
     },
     "execution_count": 11,
     "metadata": {},
     "output_type": "execute_result"
    },
    {
     "data": {
      "image/png": "[encoded data removed]",
      "text/plain": [
       "<Figure size 432x288 with 1 Axes>"
      ]
     },
     "metadata": {
      "needs_background": "light"
     },
     "output_type": "display_data"
    }
   ],
   "source": [
    "pm.autocorrplot(trace, combined=True)"
   ]
  },
  {
   "cell_type": "markdown",
   "id": "6ede3057",
   "metadata": {},
   "source": [
    "## Posterior-predictive assessment of fit (Bayesian goodness-of-fit)\n",
    "\n",
    "Once we obtain the posterior distribution we can sample from it, because we can predict new values. Given a set of N i.i.d. observations $D = {y_1, y_2, ..., y_N}$, a new (vector of) value(s) of $\\hat{y}$ can be drawn from the posterior distribution, using the posterior as our new prior:\n",
    "\n",
    "$$ \\boxed{ P(\\hat{y}|D) = \\int P(\\hat{y}|p)P(p|D)dp }$$\n",
    "\n",
    "Now, we can qualify and quantify the agreement of the data with our best-fit model. We sample the posterior to draw  parameter values, and calculate a test statistics distribution, which we can compare with the test statistic value for the actual observation.\n",
    "\n",
    "1. Using the posterior, we generate 'fake' data samples (10 data values of coin-flips for each random posterior-sample), and calculate the 'sample mean' for each sample, which we use as a test statistics. Thus, we get a distribution of the 'sample mean' for this 'fake data'. \n",
    "\n",
    "1a. Alternatively, we can just sample from the MCMC chain value, it is faster and uses the values actually explored, given the data.\n",
    "\n",
    "2. We compare the observed sample mean calculated from the real data with the test-statistics distribution from the posterior-predictive samples."
   ]
  },
  {
   "cell_type": "code",
   "execution_count": 12,
   "id": "14000484",
   "metadata": {},
   "outputs": [],
   "source": [
    "Nrepeat = 1000\n",
    "Nsample = 10\n",
    "sample_mean_set = []\n",
    "\n",
    "# Sample from the MCMC chain\n",
    "for i in range(Nrepeat):\n",
    "    # Sample the trace parameter values from the MCMC chain\n",
    "    fake_data = np.random.choice(trace[\"posterior\"][\"p\"][0], size=Nsample)\n",
    "\n",
    "    # Calculate sample mean\n",
    "    sample_mean_set.append(np.mean(fake_data))\n"
   ]
  },
  {
   "cell_type": "code",
   "execution_count": 13,
   "id": "fabb5cb2",
   "metadata": {},
   "outputs": [
    {
     "data": {
      "image/png": "[encoded data removed]",
      "text/plain": [
       "<Figure size 432x288 with 1 Axes>"
      ]
     },
     "metadata": {
      "needs_background": "light"
     },
     "output_type": "display_data"
    }
   ],
   "source": [
    "# Plot the distribution of the sample means as a histogram\n",
    "fig, ax = plt.subplots(1, 1)\n",
    "plt.hist(sample_mean_set, bins='auto')\n",
    "ax.set_xlim(0, 1)\n",
    "#plt.axvline(np.percentile(chain_s,[2.5,97.5])[0], c='k', ls='--')\n",
    "#plt.axvline(np.percentile(chain_s,[2.5,97.5])[1], c='k', ls='--');\n",
    "plt.axvline(np.mean(data), c='k', ls='--');\n",
    "ax.set_xlabel(\"Sample mean\")\n",
    "\n",
    "plt.show()\n"
   ]
  },
  {
   "cell_type": "code",
   "execution_count": null,
   "id": "24a75af5",
   "metadata": {},
   "outputs": [],
   "source": []
  }
 ],
 "metadata": {
  "kernelspec": {
   "display_name": "Python 3 (ipykernel)",
   "language": "python",
   "name": "python3"
  },
  "language_info": {
   "codemirror_mode": {
    "name": "ipython",
    "version": 3
   },
   "file_extension": ".py",
   "mimetype": "text/x-python",
   "name": "python",
   "nbconvert_exporter": "python",
   "pygments_lexer": "ipython3",
   "version": "3.9.12"
  }
 },
 "nbformat": 4,
 "nbformat_minor": 5
}
